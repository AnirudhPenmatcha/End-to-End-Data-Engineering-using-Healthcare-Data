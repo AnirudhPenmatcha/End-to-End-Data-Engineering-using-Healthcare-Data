{
 "cells": [
  {
   "cell_type": "code",
   "execution_count": 0,
   "metadata": {
    "application/vnd.databricks.v1+cell": {
     "cellMetadata": {
      "byteLimit": 2048000,
      "rowLimit": 10000
     },
     "inputWidgets": {},
     "nuid": "f39312e8-3ac9-4030-b839-bd906575ce03",
     "showTitle": false,
     "tableResultSettingsMap": {},
     "title": ""
    }
   },
   "outputs": [],
   "source": [
    "-- Make sure we're in the correct catalog and schema\n",
    "\n",
    "USE CATALOG healthcare;\n",
    "USE SCHEMA camp_data;"
   ]
  },
  {
   "cell_type": "markdown",
   "metadata": {
    "application/vnd.databricks.v1+cell": {
     "cellMetadata": {},
     "inputWidgets": {},
     "nuid": "aaa95ae6-25a5-4aee-9878-046ff4a4ea29",
     "showTitle": false,
     "tableResultSettingsMap": {},
     "title": ""
    }
   },
   "source": [
    "The objective here is to gain insights on the health camps using our cleaned and transformed data. Here is a framework of thought that could be explored:\n",
    "- Identify some questions that could be answered based on the available data"
   ]
  },
  {
   "cell_type": "markdown",
   "metadata": {
    "application/vnd.databricks.v1+cell": {
     "cellMetadata": {},
     "inputWidgets": {},
     "nuid": "4825d436-338e-4368-9d10-1f8b8dfc3126",
     "showTitle": false,
     "tableResultSettingsMap": {},
     "title": ""
    }
   },
   "source": [
    "Identify some questions that could be answered based on the available data\n",
    "- Which health camp had the highest number of visits\n",
    "- Which employer category has the most patients?\n",
    "- How does the number of stalls visited correlate with the health score?\n",
    "- Which city type has the highest average health score?\n",
    "- What is the average donation amount by age group?\n",
    "- What is the average education score by city type?\n",
    "- What is the distribution of patients by age group and city type?\n",
    "- What is the total donation by city type?"
   ]
  },
  {
   "cell_type": "code",
   "execution_count": 0,
   "metadata": {
    "application/vnd.databricks.v1+cell": {
     "cellMetadata": {
      "byteLimit": 2048000,
      "rowLimit": 10000
     },
     "inputWidgets": {},
     "nuid": "bd47b3a2-777e-4fa7-88e5-4620fb3db44b",
     "showTitle": false,
     "tableResultSettingsMap": {
      "0": {
       "dataGridStateBlob": "{\"version\":1,\"tableState\":{\"columnPinning\":{\"left\":[\"#row_number#\"],\"right\":[]},\"columnSizing\":{},\"columnVisibility\":{}},\"settings\":{\"columns\":{}},\"syncTimestamp\":1752765039978}",
       "filterBlob": null,
       "queryPlanFiltersBlob": null,
       "tableResultIndex": 0
      }
     },
     "title": ""
    }
   },
   "outputs": [],
   "source": [
    "-- Which health camp had the highest number of visits? \n",
    "\n",
    "SELECT health_camp_id, COUNT(patient_id) AS total_visits\n",
    "FROM all_patient_details\n",
    "GROUP BY health_camp_id\n",
    "ORDER BY total_visits DESC\n",
    "LIMIT 3;"
   ]
  },
  {
   "cell_type": "code",
   "execution_count": 0,
   "metadata": {
    "application/vnd.databricks.v1+cell": {
     "cellMetadata": {
      "byteLimit": 2048000,
      "rowLimit": 10000
     },
     "inputWidgets": {},
     "nuid": "a1481fd9-d34d-47f6-8172-ab5d99e6c33c",
     "showTitle": false,
     "tableResultSettingsMap": {},
     "title": ""
    }
   },
   "outputs": [],
   "source": [
    "-- Which employer category has the most patients?\n",
    "\n",
    "SELECT employer_category, COUNT(patient_id) AS patient_count\n",
    "FROM all_patient_details\n",
    "GROUP BY employer_category\n",
    "ORDER BY patient_count DESC;"
   ]
  },
  {
   "cell_type": "code",
   "execution_count": 0,
   "metadata": {
    "application/vnd.databricks.v1+cell": {
     "cellMetadata": {
      "byteLimit": 2048000,
      "rowLimit": 10000
     },
     "inputWidgets": {},
     "nuid": "baa52a6d-949c-4583-9e18-00b182b57e19",
     "showTitle": false,
     "tableResultSettingsMap": {},
     "title": ""
    }
   },
   "outputs": [],
   "source": [
    "-- How does the number of stalls visited correlate with the health score?\n",
    "\n",
    "SELECT number_of_stall_visited, AVG(health_score) AS avg_health_score\n",
    "FROM all_patient_details\n",
    "GROUP BY number_of_stall_visited\n",
    "ORDER BY avg_health_score DESC;"
   ]
  },
  {
   "cell_type": "code",
   "execution_count": 0,
   "metadata": {
    "application/vnd.databricks.v1+cell": {
     "cellMetadata": {
      "byteLimit": 2048000,
      "rowLimit": 10000
     },
     "inputWidgets": {},
     "nuid": "06ac6c25-e2ad-4ea6-827a-f06dee20fafe",
     "showTitle": false,
     "tableResultSettingsMap": {},
     "title": ""
    }
   },
   "outputs": [],
   "source": [
    "-- Which city type has the highest average health score?\n",
    "\n",
    "SELECT city_type, AVG(health_score) AS avg_health_score\n",
    "FROM all_patient_details\n",
    "GROUP BY city_type\n",
    "ORDER BY avg_health_score DESC;"
   ]
  },
  {
   "cell_type": "code",
   "execution_count": 0,
   "metadata": {
    "application/vnd.databricks.v1+cell": {
     "cellMetadata": {
      "byteLimit": 2048000,
      "rowLimit": 10000
     },
     "inputWidgets": {},
     "nuid": "9ff5b4e6-3809-4450-8a01-659b34e8549e",
     "showTitle": false,
     "tableResultSettingsMap": {},
     "title": ""
    }
   },
   "outputs": [],
   "source": [
    "-- What is the average donation amount by age group?\n",
    "-- Group by age groups: 18-30, 31-40, 41-50, 51-60, 61-70, 71-80, 81-90, 91-100\n",
    "\n",
    "SELECT CASE \n",
    "    WHEN age BETWEEN 18 AND 30 THEN '18-30'\n",
    "    WHEN age BETWEEN 31 AND 40 THEN '31-40'\n",
    "    WHEN age BETWEEN 41 AND 50 THEN '41-50'\n",
    "    WHEN age BETWEEN 51 AND 60 THEN '51-60'\n",
    "    WHEN age BETWEEN 61 AND 70 THEN '61-70'\n",
    "    WHEN age BETWEEN 71 AND 80 THEN '71-80'\n",
    "    WHEN age BETWEEN 81 AND 90 THEN '81-90'\n",
    "    WHEN age BETWEEN 91 AND 100 THEN '91-100'\n",
    "    ELSE 'Unknown'\n",
    "  END AS age_group,\n",
    "  AVG(donation) AS avg_donation_amount\n",
    "FROM all_patient_details\n",
    "GROUP BY age_group\n",
    "ORDER BY avg_donation_amount DESC"
   ]
  },
  {
   "cell_type": "code",
   "execution_count": 0,
   "metadata": {
    "application/vnd.databricks.v1+cell": {
     "cellMetadata": {
      "byteLimit": 2048000,
      "rowLimit": 10000
     },
     "inputWidgets": {},
     "nuid": "04113354-3c3b-4c98-a891-db2cf626ab7f",
     "showTitle": false,
     "tableResultSettingsMap": {},
     "title": ""
    }
   },
   "outputs": [],
   "source": [
    "-- What is the average education score by city type?\n",
    "\n",
    "SELECT city_type, AVG(education_score) AS avg_education_score\n",
    "FROM all_patient_details\n",
    "GROUP BY city_type\n",
    "ORDER BY avg_education_score DESC;"
   ]
  },
  {
   "cell_type": "code",
   "execution_count": 0,
   "metadata": {
    "application/vnd.databricks.v1+cell": {
     "cellMetadata": {
      "byteLimit": 2048000,
      "rowLimit": 10000
     },
     "inputWidgets": {},
     "nuid": "a225271f-203e-46e5-8aaf-56161f7aaf01",
     "showTitle": false,
     "tableResultSettingsMap": {},
     "title": ""
    }
   },
   "outputs": [],
   "source": [
    "-- What is the distribution of patients by age group and city type\n",
    "\n",
    "SELECT \n",
    "    CASE \n",
    "        WHEN age BETWEEN 18 AND 30 THEN '18-30'\n",
    "        WHEN age BETWEEN 31 AND 40 THEN '31-40'\n",
    "        WHEN age BETWEEN 41 AND 50 THEN '41-50'\n",
    "        WHEN age BETWEEN 51 AND 60 THEN '51-60'\n",
    "        WHEN age BETWEEN 61 AND 70 THEN '61-70'\n",
    "        WHEN age BETWEEN 71 AND 80 THEN '71-80'\n",
    "        WHEN age BETWEEN 81 AND 90 THEN '81-90'\n",
    "        WHEN age BETWEEN 91 AND 100 THEN '91-100'\n",
    "        ELSE 'Unknown'\n",
    "    END AS age_group,\n",
    "    city_type,\n",
    "    COUNT(*) AS patient_count\n",
    "FROM all_patient_details\n",
    "GROUP BY age_group, city_type\n",
    "ORDER BY patient_count DESC;"
   ]
  },
  {
   "cell_type": "code",
   "execution_count": 0,
   "metadata": {
    "application/vnd.databricks.v1+cell": {
     "cellMetadata": {
      "byteLimit": 2048000,
      "rowLimit": 10000
     },
     "inputWidgets": {},
     "nuid": "1a3da5cd-3527-43ea-a3dc-d044e2dc6552",
     "showTitle": false,
     "tableResultSettingsMap": {},
     "title": ""
    }
   },
   "outputs": [],
   "source": [
    "-- What is the total donation by city type\n",
    "\n",
    "SELECT city_type, SUM(donation) AS total_donation\n",
    "FROM all_patient_details\n",
    "GROUP BY city_type\n",
    "ORDER BY total_donation DESC;"
   ]
  },
  {
   "cell_type": "code",
   "execution_count": 0,
   "metadata": {
    "application/vnd.databricks.v1+cell": {
     "cellMetadata": {
      "byteLimit": 2048000,
      "rowLimit": 10000
     },
     "inputWidgets": {},
     "nuid": "e0cdb3f2-5a04-472a-84da-78ac15422b6d",
     "showTitle": false,
     "tableResultSettingsMap": {},
     "title": ""
    }
   },
   "outputs": [],
   "source": [
    "%python\n",
    "# Visualiza the correlation using a heatmap\n",
    "\n",
    "import seaborn as sns\n",
    "import matplotlib.pyplot as plt\n",
    "\n",
    "df = spark.table(\"all_patient_details\").toPandas()\n",
    "plt.figure(figsize=(12,8))\n",
    "sns.heatmap(df.corr(), annot=True, cmap=\"coolwarm\")\n",
    "plt.title(\"Correlation Heatmap for all_patient_details\")\n",
    "plt.show()"
   ]
  }
 ],
 "metadata": {
  "application/vnd.databricks.v1+notebook": {
   "computePreferences": null,
   "dashboards": [],
   "environmentMetadata": {
    "base_environment": "",
    "environment_version": "2"
   },
   "inputWidgetPreferences": null,
   "language": "sql",
   "notebookMetadata": {
    "mostRecentlyExecutedCommandWithImplicitDF": {
     "commandId": 6235179163944328,
     "dataframes": [
      "_sqldf"
     ]
    },
    "pythonIndentUnit": 4
   },
   "notebookName": "SQL Analysis",
   "widgets": {}
  },
  "language_info": {
   "name": "sql"
  }
 },
 "nbformat": 4,
 "nbformat_minor": 0
}
