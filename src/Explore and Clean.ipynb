{
 "cells": [
  {
   "cell_type": "markdown",
   "metadata": {
    "application/vnd.databricks.v1+cell": {
     "cellMetadata": {
      "byteLimit": 2048000,
      "rowLimit": 10000
     },
     "inputWidgets": {},
     "nuid": "3e147763-c352-40e2-8068-fde81a1014fa",
     "showTitle": false,
     "tableResultSettingsMap": {},
     "title": ""
    }
   },
   "source": [
    "### The below block of code is to be removed prior to staging"
   ]
  },
  {
   "cell_type": "code",
   "execution_count": 0,
   "metadata": {
    "application/vnd.databricks.v1+cell": {
     "cellMetadata": {
      "byteLimit": 2048000,
      "implicitDf": true,
      "rowLimit": 10000
     },
     "inputWidgets": {},
     "nuid": "4ebfdd8c-2cab-4fb6-913d-c0507651648b",
     "showTitle": false,
     "tableResultSettingsMap": {},
     "title": ""
    },
    "jupyter": {
     "outputs_hidden": true
    }
   },
   "outputs": [],
   "source": [
    "%run \"/Workspace/Users/anirudhp@megnity.com/Healthcare/src/Ingest Source Data\""
   ]
  },
  {
   "cell_type": "markdown",
   "metadata": {
    "application/vnd.databricks.v1+cell": {
     "cellMetadata": {
      "byteLimit": 2048000,
      "rowLimit": 10000
     },
     "inputWidgets": {},
     "nuid": "3e9c8f55-41bf-4171-aab8-d784f66dde9d",
     "showTitle": false,
     "tableResultSettingsMap": {},
     "title": ""
    }
   },
   "source": [
    "### General Insights into the Tables"
   ]
  },
  {
   "cell_type": "code",
   "execution_count": 0,
   "metadata": {
    "application/vnd.databricks.v1+cell": {
     "cellMetadata": {
      "byteLimit": 2048000,
      "rowLimit": 10000
     },
     "inputWidgets": {},
     "nuid": "6d8c6a69-b812-4ee3-81c8-5f4f52f9c201",
     "showTitle": false,
     "tableResultSettingsMap": {},
     "title": ""
    }
   },
   "outputs": [],
   "source": [
    "first_camp.printSchema()\n",
    "second_camp.printSchema()\n",
    "third_camp.printSchema()\n",
    "patient_profiles.printSchema()\n",
    "health_camp_details.printSchema()\n"
   ]
  },
  {
   "cell_type": "code",
   "execution_count": 0,
   "metadata": {
    "application/vnd.databricks.v1+cell": {
     "cellMetadata": {
      "byteLimit": 2048000,
      "rowLimit": 10000
     },
     "inputWidgets": {},
     "nuid": "242c88ef-4a99-419e-be59-75671fb01e3d",
     "showTitle": false,
     "tableResultSettingsMap": {},
     "title": ""
    }
   },
   "outputs": [],
   "source": [
    "print(\"The number of rows in the first camp table:\", first_camp.count())\n",
    "print(\"The number of rows in the second camp table:\", second_camp.count())\n",
    "print(\"The number of rows in the third camp table:\", third_camp.count())\n",
    "print(\"The number of rows in the patient profiles table:\", patient_profiles.count())\n",
    "print(\"The number of rows in the health camp table:\", health_camp_details.count())"
   ]
  },
  {
   "cell_type": "markdown",
   "metadata": {
    "application/vnd.databricks.v1+cell": {
     "cellMetadata": {
      "byteLimit": 2048000,
      "rowLimit": 10000
     },
     "inputWidgets": {},
     "nuid": "565441ee-c2b4-4c27-b331-6466d2c80a8f",
     "showTitle": false,
     "tableResultSettingsMap": {},
     "title": ""
    }
   },
   "source": [
    "### Steps for cleaning the data\n",
    "\n",
    "1. Go through the data description on Kaggle\n",
    "2. Define what a clean, usable, and accurate table should look like\n",
    "    1. Drop/Fill if there is no value .dropna()\n",
    "    3. There should be no negatives (if applicable), only positives (if applicable)\n",
    "    4. Drop duplicates (if applicable)\n",
    "    5. Standardizing column names\n",
    "    6. Trimming and cleaning string data\n",
    "    7. Parsing dates and timestamps\n",
    "    8. Casting columns to correct types\n",
    "    9. Validating categorical values\n",
    "3. Clean the table first_camp\n",
    "4. Clean the table second_camp\n",
    "5. Clean the table third_camp\n",
    "6. Clean the table Health_Camp_Detail\n",
    "7. Clean the table Patient_Profile"
   ]
  },
  {
   "cell_type": "markdown",
   "metadata": {
    "application/vnd.databricks.v1+cell": {
     "cellMetadata": {
      "byteLimit": 2048000,
      "rowLimit": 10000
     },
     "inputWidgets": {},
     "nuid": "f2b7f74a-66e0-4c4d-a348-6576d6ad1438",
     "showTitle": false,
     "tableResultSettingsMap": {},
     "title": ""
    }
   },
   "source": [
    "### Let's the clean the table first camp "
   ]
  },
  {
   "cell_type": "code",
   "execution_count": 0,
   "metadata": {
    "application/vnd.databricks.v1+cell": {
     "cellMetadata": {
      "byteLimit": 2048000,
      "rowLimit": 10000
     },
     "inputWidgets": {},
     "nuid": "054f318e-953d-400c-9f9f-d871ae129762",
     "showTitle": false,
     "tableResultSettingsMap": {},
     "title": ""
    }
   },
   "outputs": [],
   "source": [
    "# first_camp\n",
    "display(first_camp.limit(25))"
   ]
  },
  {
   "cell_type": "code",
   "execution_count": 0,
   "metadata": {
    "application/vnd.databricks.v1+cell": {
     "cellMetadata": {
      "byteLimit": 2048000,
      "rowLimit": 10000
     },
     "inputWidgets": {},
     "nuid": "11fbee71-62f9-4f99-a796-c8a326bfce2b",
     "showTitle": false,
     "tableResultSettingsMap": {},
     "title": ""
    }
   },
   "outputs": [],
   "source": [
    "# # drop all rows with null values\n",
    "\n",
    "# before_count = first_camp.count()\n",
    "# first_camp = first_camp.dropna()\n",
    "# after_count = first_camp.count()\n",
    "# print(\"Rows dropped:\", before_count - after_count)"
   ]
  },
  {
   "cell_type": "code",
   "execution_count": 0,
   "metadata": {
    "application/vnd.databricks.v1+cell": {
     "cellMetadata": {
      "byteLimit": 2048000,
      "rowLimit": 10000
     },
     "inputWidgets": {},
     "nuid": "680635b3-7102-46a8-a714-8a195b830675",
     "showTitle": false,
     "tableResultSettingsMap": {},
     "title": ""
    }
   },
   "outputs": [],
   "source": [
    "# Check which column has null values\n",
    "from pyspark.sql.functions import col, sum\n",
    "\n",
    "missing_values = first_camp.select([sum(col(c).isNull().cast(\"int\")).alias(c) for c in first_camp.columns])\n",
    "display(missing_values)"
   ]
  },
  {
   "cell_type": "code",
   "execution_count": 0,
   "metadata": {
    "application/vnd.databricks.v1+cell": {
     "cellMetadata": {
      "byteLimit": 2048000,
      "rowLimit": 10000
     },
     "inputWidgets": {},
     "nuid": "b124232e-9515-4899-8ac9-630acc5271ab",
     "showTitle": false,
     "tableResultSettingsMap": {},
     "title": ""
    }
   },
   "outputs": [],
   "source": [
    "# There are missing values only in the _c4 column which is irrelevant. So it's better to remove the column\n",
    "\n",
    "first_camp = first_camp.drop(\"_c4\")\n",
    "display(first_camp.limit(25))"
   ]
  },
  {
   "cell_type": "code",
   "execution_count": 0,
   "metadata": {
    "application/vnd.databricks.v1+cell": {
     "cellMetadata": {
      "byteLimit": 2048000,
      "rowLimit": 10000
     },
     "inputWidgets": {},
     "nuid": "4d7ef9b0-1d82-4783-ab95-f37e79688099",
     "showTitle": false,
     "tableResultSettingsMap": {},
     "title": ""
    }
   },
   "outputs": [],
   "source": [
    "# Check for negatives\n",
    "\n",
    "negative_counts = first_camp.select([sum((col(c) < 0).cast(\"int\")).alias(c) for c in first_camp.columns])\n",
    "display(negative_counts)"
   ]
  },
  {
   "cell_type": "code",
   "execution_count": 0,
   "metadata": {
    "application/vnd.databricks.v1+cell": {
     "cellMetadata": {
      "byteLimit": 2048000,
      "rowLimit": 10000
     },
     "inputWidgets": {},
     "nuid": "2ec8af1f-e71e-4703-95c1-17bc015d2581",
     "showTitle": false,
     "tableResultSettingsMap": {},
     "title": ""
    }
   },
   "outputs": [],
   "source": [
    "# Drop duplicates (if applicable)\n",
    "\n",
    "before_count = first_camp.count()\n",
    "first_camp = first_camp.dropDuplicates([\"Patient_ID\", \"Health_Camp_ID\"])\n",
    "after_count = first_camp.count()\n",
    "rows_dropped = before_count - after_count\n",
    "print(\"Rows dropped:\", rows_dropped)"
   ]
  },
  {
   "cell_type": "code",
   "execution_count": 0,
   "metadata": {
    "application/vnd.databricks.v1+cell": {
     "cellMetadata": {
      "byteLimit": 2048000,
      "rowLimit": 10000
     },
     "inputWidgets": {},
     "nuid": "c9b85ad3-9fbc-4da1-860e-13b5910eb2fc",
     "showTitle": false,
     "tableResultSettingsMap": {},
     "title": ""
    }
   },
   "outputs": [],
   "source": [
    "# Standardizing column names\n",
    "\n",
    "first_camp = first_camp.withColumnRenamed(\"Patient_ID\", \"patient_id\") \\\n",
    "                       .withColumnRenamed(\"Health_Camp_ID\", \"health_camp_id\") \\\n",
    "                       .withColumnRenamed(\"Donation\", \"donation\") \\\n",
    "                       .withColumnRenamed(\"Health_Score\", \"health_score\")"
   ]
  },
  {
   "cell_type": "code",
   "execution_count": 0,
   "metadata": {
    "application/vnd.databricks.v1+cell": {
     "cellMetadata": {
      "byteLimit": 2048000,
      "rowLimit": 10000
     },
     "inputWidgets": {},
     "nuid": "f84d6ec0-92df-48b2-b9e8-d8f2cf745b5f",
     "showTitle": false,
     "tableResultSettingsMap": {},
     "title": ""
    }
   },
   "outputs": [],
   "source": [
    "# first camp table is cleaned\n",
    "\n",
    "first_camp_cleaned = first_camp\n",
    "\n",
    "display(first_camp_cleaned.limit(25))"
   ]
  },
  {
   "cell_type": "markdown",
   "metadata": {
    "application/vnd.databricks.v1+cell": {
     "cellMetadata": {
      "byteLimit": 2048000,
      "rowLimit": 10000
     },
     "inputWidgets": {},
     "nuid": "f8f5dae3-ea79-44de-a5c4-6edca9bbc234",
     "showTitle": false,
     "tableResultSettingsMap": {},
     "title": ""
    }
   },
   "source": [
    "### Let's clean the table second camp "
   ]
  },
  {
   "cell_type": "code",
   "execution_count": 0,
   "metadata": {
    "application/vnd.databricks.v1+cell": {
     "cellMetadata": {
      "byteLimit": 2048000,
      "rowLimit": 10000
     },
     "inputWidgets": {},
     "nuid": "0f471429-bada-40c9-a837-4e14d1725adb",
     "showTitle": false,
     "tableResultSettingsMap": {},
     "title": ""
    }
   },
   "outputs": [],
   "source": [
    "# second_camp\n",
    "display(second_camp.limit(25))"
   ]
  },
  {
   "cell_type": "code",
   "execution_count": 0,
   "metadata": {
    "application/vnd.databricks.v1+cell": {
     "cellMetadata": {
      "byteLimit": 2048000,
      "rowLimit": 10000
     },
     "inputWidgets": {},
     "nuid": "3d5300ad-0aa3-487c-81c2-de17e63edc8c",
     "showTitle": false,
     "tableResultSettingsMap": {},
     "title": ""
    }
   },
   "outputs": [],
   "source": [
    "# 1. Drop/Fill if there is no value .dropna()\n",
    "\n",
    "before_count = second_camp.count()\n",
    "second_camp = second_camp.dropna()\n",
    "after_count = second_camp.count()\n",
    "print(\"Rows dropped:\", before_count - after_count)"
   ]
  },
  {
   "cell_type": "code",
   "execution_count": 0,
   "metadata": {
    "application/vnd.databricks.v1+cell": {
     "cellMetadata": {
      "byteLimit": 2048000,
      "rowLimit": 10000
     },
     "inputWidgets": {},
     "nuid": "f45cdf55-8a04-4632-9ae8-051d0b7a1cc7",
     "showTitle": false,
     "tableResultSettingsMap": {},
     "title": ""
    }
   },
   "outputs": [],
   "source": [
    "# 2. There should be no no negatives (if applicable), only positives\n",
    "\n",
    "non_positive_counts = second_camp.select([sum((col(c) <= 0).cast(\"int\")).alias(c) for c in second_camp.columns])\n",
    "display(non_positive_counts)"
   ]
  },
  {
   "cell_type": "code",
   "execution_count": 0,
   "metadata": {
    "application/vnd.databricks.v1+cell": {
     "cellMetadata": {
      "byteLimit": 2048000,
      "rowLimit": 10000
     },
     "inputWidgets": {},
     "nuid": "31857f8b-7a39-41c9-af63-478f2da1b8f1",
     "showTitle": false,
     "tableResultSettingsMap": {},
     "title": ""
    }
   },
   "outputs": [],
   "source": [
    "# 3. Drop duplicates (if applicable)\n",
    "\n",
    "before_count = second_camp.count()\n",
    "second_camp = second_camp.dropDuplicates([\"Patient_ID\", \"Health_Camp_ID\"])\n",
    "after_count = second_camp.count()\n",
    "rows_dropped = before_count - after_count\n",
    "print(\"Rows dropped:\", rows_dropped)"
   ]
  },
  {
   "cell_type": "code",
   "execution_count": 0,
   "metadata": {
    "application/vnd.databricks.v1+cell": {
     "cellMetadata": {
      "byteLimit": 2048000,
      "rowLimit": 10000
     },
     "inputWidgets": {},
     "nuid": "5ac94a23-8bce-4c1f-a280-1ce5f214e84e",
     "showTitle": false,
     "tableResultSettingsMap": {},
     "title": ""
    }
   },
   "outputs": [],
   "source": [
    "# 4. Standardizing column names\n",
    "\n",
    "second_camp = second_camp.withColumnRenamed(\"Patient_ID\", \"patient_id\") \\\n",
    "                       .withColumnRenamed(\"Health_Camp_ID\", \"health_camp_id\") \\\n",
    "                       .withColumnRenamed(\"Health Score\", \"health_score\")\n",
    "\n",
    "display(second_camp.limit(25))"
   ]
  },
  {
   "cell_type": "code",
   "execution_count": 0,
   "metadata": {
    "application/vnd.databricks.v1+cell": {
     "cellMetadata": {
      "byteLimit": 2048000,
      "rowLimit": 10000
     },
     "inputWidgets": {},
     "nuid": "cbdb6a35-2463-4517-8b77-149043de86cb",
     "showTitle": false,
     "tableResultSettingsMap": {},
     "title": ""
    }
   },
   "outputs": [],
   "source": [
    "# second camp table is cleaned\n",
    "\n",
    "second_camp_cleaned = second_camp\n",
    "\n",
    "display(second_camp_cleaned.limit(25))"
   ]
  },
  {
   "cell_type": "markdown",
   "metadata": {
    "application/vnd.databricks.v1+cell": {
     "cellMetadata": {
      "byteLimit": 2048000,
      "rowLimit": 10000
     },
     "inputWidgets": {},
     "nuid": "2e931f96-6321-4641-ae03-7d1b51dbb5c6",
     "showTitle": false,
     "tableResultSettingsMap": {},
     "title": ""
    }
   },
   "source": [
    "### Let's clean the table third camp "
   ]
  },
  {
   "cell_type": "code",
   "execution_count": 0,
   "metadata": {
    "application/vnd.databricks.v1+cell": {
     "cellMetadata": {
      "byteLimit": 2048000,
      "rowLimit": 10000
     },
     "inputWidgets": {},
     "nuid": "f3d0c54f-d820-4c54-9435-4ce3b9ed3e1c",
     "showTitle": false,
     "tableResultSettingsMap": {},
     "title": ""
    }
   },
   "outputs": [],
   "source": [
    "# third_camp\n",
    "display(third_camp.limit(25))"
   ]
  },
  {
   "cell_type": "code",
   "execution_count": 0,
   "metadata": {
    "application/vnd.databricks.v1+cell": {
     "cellMetadata": {
      "byteLimit": 2048000,
      "rowLimit": 10000
     },
     "inputWidgets": {},
     "nuid": "61743eaa-155f-4cf1-b533-bacffd0cfdb6",
     "showTitle": false,
     "tableResultSettingsMap": {},
     "title": ""
    }
   },
   "outputs": [],
   "source": [
    "# 1. Drop/Fill if there is no value .dropna()\n",
    "\n",
    "before_count = third_camp.count()\n",
    "third_camp = third_camp.dropna()\n",
    "after_count = third_camp.count()\n",
    "print(\"Rows dropped:\", before_count - after_count)"
   ]
  },
  {
   "cell_type": "code",
   "execution_count": 0,
   "metadata": {
    "application/vnd.databricks.v1+cell": {
     "cellMetadata": {
      "byteLimit": 2048000,
      "rowLimit": 10000
     },
     "inputWidgets": {},
     "nuid": "a825c142-88bd-4f61-85ed-e4334d7393a9",
     "showTitle": false,
     "tableResultSettingsMap": {},
     "title": ""
    }
   },
   "outputs": [],
   "source": [
    "# 2. There should be no negatives (if applicable), only positives and zeroes\n",
    "\n",
    "non_positive_counts = third_camp.select([sum((col(c) <= 0).cast(\"int\")).alias(c) for c in third_camp.columns])\n",
    "display(non_positive_counts)"
   ]
  },
  {
   "cell_type": "code",
   "execution_count": 0,
   "metadata": {
    "application/vnd.databricks.v1+cell": {
     "cellMetadata": {
      "byteLimit": 2048000,
      "rowLimit": 10000
     },
     "inputWidgets": {},
     "nuid": "3a597dc2-8a96-4833-ba53-41db333f9aa9",
     "showTitle": false,
     "tableResultSettingsMap": {},
     "title": ""
    }
   },
   "outputs": [],
   "source": [
    "# Display rows where Number_of_stall_visited is <= 0\n",
    "\n",
    "invalid_stalls_visited = third_camp.filter(col(\"Number_of_stall_visited\") <= 0)\n",
    "display(invalid_stalls_visited)\n",
    "\n",
    "# We don't have to drop any of these rows"
   ]
  },
  {
   "cell_type": "code",
   "execution_count": 0,
   "metadata": {
    "application/vnd.databricks.v1+cell": {
     "cellMetadata": {
      "byteLimit": 2048000,
      "rowLimit": 10000
     },
     "inputWidgets": {},
     "nuid": "9d3ebfd3-6200-438f-9dbc-dac3faee4153",
     "showTitle": false,
     "tableResultSettingsMap": {},
     "title": ""
    }
   },
   "outputs": [],
   "source": [
    "# 3. Drop duplicates (if applicable)\n",
    "\n",
    "before_count = third_camp.count()\n",
    "third_camp = third_camp.dropDuplicates([\"Patient_ID\", \"Health_Camp_ID\"])\n",
    "after_count = third_camp.count()\n",
    "rows_dropped = before_count - after_count\n",
    "print(\"Rows dropped:\", rows_dropped)"
   ]
  },
  {
   "cell_type": "code",
   "execution_count": 0,
   "metadata": {
    "application/vnd.databricks.v1+cell": {
     "cellMetadata": {
      "byteLimit": 2048000,
      "rowLimit": 10000
     },
     "inputWidgets": {},
     "nuid": "cdd8fe68-5586-41c0-85bd-beacc376b906",
     "showTitle": false,
     "tableResultSettingsMap": {},
     "title": ""
    }
   },
   "outputs": [],
   "source": [
    "# 4. Standardizing column names\n",
    "\n",
    "third_camp = third_camp.withColumnRenamed(\"Patient_ID\", \"patient_id\") \\\n",
    "                       .withColumnRenamed(\"Health_Camp_ID\", \"health_camp_id\") \\\n",
    "                       .withColumnRenamed(\"Number_of_stall_visited\", \"number_of_stall_visited\") \\\n",
    "                       .withColumnRenamed(\"Last_Stall_Visited_Number\", \"last_stall_visited_number\")\n",
    "\n",
    "display(third_camp.limit(25))"
   ]
  },
  {
   "cell_type": "code",
   "execution_count": 0,
   "metadata": {
    "application/vnd.databricks.v1+cell": {
     "cellMetadata": {
      "byteLimit": 2048000,
      "rowLimit": 10000
     },
     "inputWidgets": {},
     "nuid": "df30e05d-f416-4176-9e8b-f299db00f5e5",
     "showTitle": false,
     "tableResultSettingsMap": {},
     "title": ""
    }
   },
   "outputs": [],
   "source": [
    "# third camp table is cleaned\n",
    "\n",
    "third_camp_cleaned = third_camp\n",
    "\n",
    "display(third_camp_cleaned.limit(25))"
   ]
  },
  {
   "cell_type": "markdown",
   "metadata": {
    "application/vnd.databricks.v1+cell": {
     "cellMetadata": {
      "byteLimit": 2048000,
      "rowLimit": 10000
     },
     "inputWidgets": {},
     "nuid": "7c809842-0897-4ddd-b020-6ff35176a074",
     "showTitle": false,
     "tableResultSettingsMap": {},
     "title": ""
    }
   },
   "source": [
    "### Let's clean the table patient profile"
   ]
  },
  {
   "cell_type": "code",
   "execution_count": 0,
   "metadata": {
    "application/vnd.databricks.v1+cell": {
     "cellMetadata": {
      "byteLimit": 2048000,
      "rowLimit": 10000
     },
     "inputWidgets": {},
     "nuid": "3480b088-73ea-47ab-a361-a21c30a7b6e3",
     "showTitle": false,
     "tableResultSettingsMap": {},
     "title": ""
    }
   },
   "outputs": [],
   "source": [
    "# patient_profile\n",
    "\n",
    "display(patient_profiles.limit(25))"
   ]
  },
  {
   "cell_type": "code",
   "execution_count": 0,
   "metadata": {
    "application/vnd.databricks.v1+cell": {
     "cellMetadata": {
      "byteLimit": 2048000,
      "rowLimit": 10000
     },
     "inputWidgets": {},
     "nuid": "2be710b3-4aff-4855-a0f5-719e9d9da726",
     "showTitle": false,
     "tableResultSettingsMap": {},
     "title": ""
    }
   },
   "outputs": [],
   "source": [
    "# 1. Drop/Fill if there is no value .dropna()\n",
    "# Check if there are any missing values in the column Patient_ID and only drop those. If there are missing values in the follower count, income, education score, age, first interaction, city type, employer category, then ignore those. \n",
    "\n",
    "before_count = patient_profiles.count()\n",
    "patient_profiles = patient_profiles.dropna(subset=[\"Patient_ID\"])\n",
    "after_count = patient_profiles.count()\n",
    "print(\"Rows dropped:\", before_count - after_count)"
   ]
  },
  {
   "cell_type": "code",
   "execution_count": 0,
   "metadata": {
    "application/vnd.databricks.v1+cell": {
     "cellMetadata": {
      "byteLimit": 2048000,
      "rowLimit": 10000
     },
     "inputWidgets": {},
     "nuid": "47a41d42-5582-4769-9450-ced5b1350217",
     "showTitle": false,
     "tableResultSettingsMap": {},
     "title": ""
    }
   },
   "outputs": [],
   "source": [
    "# 7. Casting columns to correct types\n",
    "# Cast Income and Age to Integer and Education_Score to double\n",
    "from pyspark.sql.functions import when, lit\n",
    "from pyspark.sql.types import DoubleType, IntegerType\n",
    "\n",
    "cols_to_cast = {\n",
    "    \"Income\": IntegerType(),\n",
    "    \"Education_Score\": DoubleType(),\n",
    "    \"Age\": IntegerType()\n",
    "}\n",
    "\n",
    "for c, t in cols_to_cast.items():\n",
    "    patient_profiles = patient_profiles.withColumn(\n",
    "        c,\n",
    "        when(col(c).isNull(), lit(None)).otherwise(col(c).try_cast(t))\n",
    "    )\n",
    "\n",
    "display(patient_profiles.limit(25))\n",
    "patient_profiles.printSchema()"
   ]
  },
  {
   "cell_type": "code",
   "execution_count": 0,
   "metadata": {
    "application/vnd.databricks.v1+cell": {
     "cellMetadata": {
      "byteLimit": 2048000,
      "implicitDf": true,
      "rowLimit": 10000
     },
     "inputWidgets": {},
     "nuid": "647aee93-e521-492a-b381-e97851577098",
     "showTitle": false,
     "tableResultSettingsMap": {},
     "title": ""
    }
   },
   "outputs": [],
   "source": [
    "# 6. Parsing dates and timestamps\n",
    "# Convert First_Interaction to date\n",
    "\n",
    "from pyspark.sql.functions import to_date\n",
    "\n",
    "patient_profiles = patient_profiles.withColumn(\"First_Interaction\", to_date(col(\"First_Interaction\"), \"dd-MMM-yy\"))\n",
    "display(patient_profiles.limit(25))\n",
    "patient_profiles.printSchema()"
   ]
  },
  {
   "cell_type": "code",
   "execution_count": 0,
   "metadata": {
    "application/vnd.databricks.v1+cell": {
     "cellMetadata": {
      "byteLimit": 2048000,
      "rowLimit": 10000
     },
     "inputWidgets": {},
     "nuid": "baa13b0f-5844-4ebf-a21c-b71e9ccfca33",
     "showTitle": false,
     "tableResultSettingsMap": {},
     "title": ""
    }
   },
   "outputs": [],
   "source": [
    "# 2. Check if all Patient_ID values are greater than 0\n",
    "\n",
    "non_positive_count = patient_profiles.filter(col(\"Patient_ID\") <= 0).count()\n",
    "display(spark.createDataFrame([(non_positive_count,)], [\"Non_Positive_Patient_ID_Count\"]))"
   ]
  },
  {
   "cell_type": "code",
   "execution_count": 0,
   "metadata": {
    "application/vnd.databricks.v1+cell": {
     "cellMetadata": {
      "byteLimit": 2048000,
      "rowLimit": 10000
     },
     "inputWidgets": {},
     "nuid": "f4909527-8fa2-414f-8af3-2bfad4d612fa",
     "showTitle": false,
     "tableResultSettingsMap": {},
     "title": ""
    }
   },
   "outputs": [],
   "source": [
    "# Check if all other columns until age have values that are greater than or equal to 0\n",
    "\n",
    "columns_to_check = [\"Online_Follower\", \"LinkedIn_Shared\", \"Twitter_Shared\", \"Facebook_Shared\", \"Income\", \"Education_Score\", \"Age\"]\n",
    "non_positive_counts = patient_profiles.select([sum((col(c) < 0).cast(\"int\")).alias(c) for c in columns_to_check])\n",
    "display(non_positive_counts)"
   ]
  },
  {
   "cell_type": "code",
   "execution_count": 0,
   "metadata": {
    "application/vnd.databricks.v1+cell": {
     "cellMetadata": {
      "byteLimit": 2048000,
      "rowLimit": 10000
     },
     "inputWidgets": {},
     "nuid": "adc4aeab-994d-4e12-892d-a60ce4b322fc",
     "showTitle": false,
     "tableResultSettingsMap": {},
     "title": ""
    }
   },
   "outputs": [],
   "source": [
    "# 3. Drop duplicates (if applicable)\n",
    "\n",
    "before_count = patient_profiles.count()\n",
    "patient_profiles = patient_profiles.dropDuplicates([\"Patient_ID\"])\n",
    "after_count = patient_profiles.count()\n",
    "rows_dropped = before_count - after_count\n",
    "print(\"Rows dropped:\", rows_dropped)"
   ]
  },
  {
   "cell_type": "code",
   "execution_count": 0,
   "metadata": {
    "application/vnd.databricks.v1+cell": {
     "cellMetadata": {
      "byteLimit": 2048000,
      "rowLimit": 10000
     },
     "inputWidgets": {},
     "nuid": "fa730b45-8ec6-4c7d-ad25-bc63af056e90",
     "showTitle": false,
     "tableResultSettingsMap": {},
     "title": ""
    }
   },
   "outputs": [],
   "source": [
    "# 4. Standardizing column names\n",
    "\n",
    "patient_profiles = patient_profiles.withColumnRenamed(\"Patient_ID\", \"patient_id\") \\\n",
    "                                  .withColumnRenamed(\"Online_Follower\", \"online_follower\") \\\n",
    "                                  .withColumnRenamed(\"LinkedIn_Shared\", \"linkedin_shared\") \\\n",
    "                                  .withColumnRenamed(\"Twitter_Shared\", \"twitter_shared\") \\\n",
    "                                  .withColumnRenamed(\"Facebook_Shared\", \"facebook_shared\") \\\n",
    "                                  .withColumnRenamed(\"Income\", \"income\") \\\n",
    "                                  .withColumnRenamed(\"Education_Score\", \"education_score\") \\\n",
    "                                  .withColumnRenamed(\"Age\", \"age\") \\\n",
    "                                  .withColumnRenamed(\"First_Interaction\", \"first_interaction\") \\\n",
    "                                  .withColumnRenamed(\"City_Type\", \"city_type\") \\\n",
    "                                  .withColumnRenamed(\"Employer_Category\", \"employer_category\")"
   ]
  },
  {
   "cell_type": "code",
   "execution_count": 0,
   "metadata": {
    "application/vnd.databricks.v1+cell": {
     "cellMetadata": {
      "byteLimit": 2048000,
      "rowLimit": 10000
     },
     "inputWidgets": {},
     "nuid": "67dc3403-d1c0-41f7-b4e8-b1806e62572d",
     "showTitle": false,
     "tableResultSettingsMap": {},
     "title": ""
    }
   },
   "outputs": [],
   "source": [
    "# patient_profiles table is clean\n",
    "\n",
    "patient_profiles_cleaned = patient_profiles\n",
    "display(patient_profiles_cleaned.limit(25))"
   ]
  },
  {
   "cell_type": "markdown",
   "metadata": {
    "application/vnd.databricks.v1+cell": {
     "cellMetadata": {
      "byteLimit": 2048000,
      "rowLimit": 10000
     },
     "inputWidgets": {},
     "nuid": "6a84efaf-5d2c-415e-87a4-2678d3663274",
     "showTitle": false,
     "tableResultSettingsMap": {},
     "title": ""
    }
   },
   "source": [
    "### Let's clean the table health camp details"
   ]
  },
  {
   "cell_type": "code",
   "execution_count": 0,
   "metadata": {
    "application/vnd.databricks.v1+cell": {
     "cellMetadata": {
      "byteLimit": 2048000,
      "rowLimit": 10000
     },
     "inputWidgets": {},
     "nuid": "b6321fdf-4946-444a-bfb6-61f7e943df52",
     "showTitle": false,
     "tableResultSettingsMap": {},
     "title": ""
    }
   },
   "outputs": [],
   "source": [
    "# health_camp_details\n",
    "\n",
    "display(health_camp_details.limit(25))"
   ]
  },
  {
   "cell_type": "code",
   "execution_count": 0,
   "metadata": {
    "application/vnd.databricks.v1+cell": {
     "cellMetadata": {
      "byteLimit": 2048000,
      "rowLimit": 10000
     },
     "inputWidgets": {},
     "nuid": "3a5a8d4e-1d95-4677-86bd-909691abaaaa",
     "showTitle": false,
     "tableResultSettingsMap": {},
     "title": ""
    }
   },
   "outputs": [],
   "source": [
    "# 1. Drop/Fill if there is no value .dropna()\n",
    "# Check if there are any missing values in Health_Camp_ID and drop those rows\n",
    "\n",
    "before_count = health_camp_details.count()\n",
    "health_camp_details = health_camp_details.dropna(subset=[\"Health_Camp_ID\"])\n",
    "after_count = health_camp_details.count()\n",
    "print(\"Rows dropped:\", before_count - after_count)"
   ]
  },
  {
   "cell_type": "code",
   "execution_count": 0,
   "metadata": {
    "application/vnd.databricks.v1+cell": {
     "cellMetadata": {
      "byteLimit": 2048000,
      "rowLimit": 10000
     },
     "inputWidgets": {},
     "nuid": "906de20b-fa0a-4beb-8307-62d5712e67dc",
     "showTitle": false,
     "tableResultSettingsMap": {},
     "title": ""
    }
   },
   "outputs": [],
   "source": [
    "# 2. There should be only positives in the column Health_Camp_ID\n",
    "\n",
    "non_positive_count = health_camp_details.filter(col(\"Health_Camp_ID\") <= 0).count()\n",
    "display(spark.createDataFrame([(non_positive_count,)], [\"Non_Positive_Patient_ID_Count\"]))"
   ]
  },
  {
   "cell_type": "code",
   "execution_count": 0,
   "metadata": {
    "application/vnd.databricks.v1+cell": {
     "cellMetadata": {
      "byteLimit": 2048000,
      "rowLimit": 10000
     },
     "inputWidgets": {},
     "nuid": "e7ad9f7d-d675-45b2-9a24-49b12476fb01",
     "showTitle": false,
     "tableResultSettingsMap": {},
     "title": ""
    }
   },
   "outputs": [],
   "source": [
    "# 3. Drop duplicates \n",
    "\n",
    "before_count = health_camp_details.count()\n",
    "health_camp_details = health_camp_details.dropDuplicates([\"Health_Camp_ID\"])\n",
    "after_count = health_camp_details.count()\n",
    "rows_dropped = before_count - after_count\n",
    "print(\"Rows dropped:\", rows_dropped)"
   ]
  },
  {
   "cell_type": "code",
   "execution_count": 0,
   "metadata": {
    "application/vnd.databricks.v1+cell": {
     "cellMetadata": {
      "byteLimit": 2048000,
      "rowLimit": 10000
     },
     "inputWidgets": {},
     "nuid": "cf679810-7157-4bc6-8b98-b1d83bebb912",
     "showTitle": false,
     "tableResultSettingsMap": {},
     "title": ""
    }
   },
   "outputs": [],
   "source": [
    "# 4. Standardizing column names\n",
    "\n",
    "health_camp_details = health_camp_details.withColumnRenamed(\"Health_Camp_ID\", \"health_camp_id\") \\\n",
    "                                        .withColumnRenamed(\"Camp_Start_Date\", \"camp_start_date\") \\\n",
    "                                        .withColumnRenamed(\"Camp_End_Date\", \"camp_end_date\") \\\n",
    "                                        .withColumnRenamed(\"Category1\", \"category1\") \\\n",
    "                                        .withColumnRenamed(\"Category2\", \"category2\") \\\n",
    "                                        .withColumnRenamed(\"Category3\", \"category3\")  "
   ]
  },
  {
   "cell_type": "code",
   "execution_count": 0,
   "metadata": {
    "application/vnd.databricks.v1+cell": {
     "cellMetadata": {
      "byteLimit": 2048000,
      "rowLimit": 10000
     },
     "inputWidgets": {},
     "nuid": "703608d0-390c-449d-ad76-6f551bbd7ac9",
     "showTitle": false,
     "tableResultSettingsMap": {},
     "title": ""
    }
   },
   "outputs": [],
   "source": [
    "# 6. Parsing dates and timestamps\n",
    "# Convert camp_start_date and camp_end_date to type date\n",
    "\n",
    "health_camp_details = health_camp_details.withColumn(\"camp_start_date\", to_date(col(\"camp_start_date\"), \"dd-MMM-yy\")) \\\n",
    "                                         .withColumn(\"camp_end_date\", to_date(col(\"camp_end_date\"), \"dd-MMM-yy\"))\n"
   ]
  },
  {
   "cell_type": "code",
   "execution_count": 0,
   "metadata": {
    "application/vnd.databricks.v1+cell": {
     "cellMetadata": {
      "byteLimit": 2048000,
      "rowLimit": 10000
     },
     "inputWidgets": {},
     "nuid": "523a38c5-7626-428e-a032-562113d5ad26",
     "showTitle": false,
     "tableResultSettingsMap": {},
     "title": ""
    }
   },
   "outputs": [],
   "source": [
    "# health_camp_details table is clean\n",
    "\n",
    "health_camp_details_cleaned = health_camp_details\n",
    "display(health_camp_details_cleaned.limit(25))"
   ]
  },
  {
   "cell_type": "code",
   "execution_count": 0,
   "metadata": {
    "application/vnd.databricks.v1+cell": {
     "cellMetadata": {},
     "inputWidgets": {},
     "nuid": "91fe615a-73de-4d71-bbf4-8b599ebffd5e",
     "showTitle": false,
     "tableResultSettingsMap": {},
     "title": ""
    }
   },
   "outputs": [],
   "source": []
  },
  {
   "cell_type": "code",
   "execution_count": 0,
   "metadata": {
    "application/vnd.databricks.v1+cell": {
     "cellMetadata": {},
     "inputWidgets": {},
     "nuid": "ad0543ff-379b-443f-bcc0-10f7b350d8d7",
     "showTitle": false,
     "tableResultSettingsMap": {},
     "title": ""
    }
   },
   "outputs": [],
   "source": []
  }
 ],
 "metadata": {
  "application/vnd.databricks.v1+notebook": {
   "computePreferences": null,
   "dashboards": [],
   "environmentMetadata": {
    "base_environment": "",
    "environment_version": "2"
   },
   "inputWidgetPreferences": null,
   "language": "python",
   "notebookMetadata": {
    "mostRecentlyExecutedCommandWithImplicitDF": {
     "commandId": 6838107952622814,
     "dataframes": [
      "_sqldf"
     ]
    },
    "pythonIndentUnit": 4
   },
   "notebookName": "Explore and Clean",
   "widgets": {}
  },
  "language_info": {
   "name": "python"
  }
 },
 "nbformat": 4,
 "nbformat_minor": 0
}
