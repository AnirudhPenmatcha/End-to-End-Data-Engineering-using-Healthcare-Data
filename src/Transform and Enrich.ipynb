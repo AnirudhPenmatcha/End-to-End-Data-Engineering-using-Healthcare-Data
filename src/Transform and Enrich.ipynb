{
 "cells": [
  {
   "cell_type": "code",
   "execution_count": 0,
   "metadata": {
    "application/vnd.databricks.v1+cell": {
     "cellMetadata": {
      "byteLimit": 2048000,
      "rowLimit": 10000
     },
     "inputWidgets": {},
     "nuid": "51121680-3d12-4459-9975-22a645f16629",
     "showTitle": false,
     "tableResultSettingsMap": {},
     "title": ""
    },
    "jupyter": {
     "outputs_hidden": true
    }
   },
   "outputs": [],
   "source": [
    "%run \"/Workspace/Users/anirudhp@megnity.com/Healthcare/src/Explore and Clean\""
   ]
  },
  {
   "cell_type": "code",
   "execution_count": 0,
   "metadata": {
    "application/vnd.databricks.v1+cell": {
     "cellMetadata": {
      "byteLimit": 2048000,
      "rowLimit": 10000
     },
     "inputWidgets": {},
     "nuid": "4424c47f-1d0a-4364-910f-4d983e4ef069",
     "showTitle": false,
     "tableResultSettingsMap": {},
     "title": ""
    }
   },
   "outputs": [],
   "source": [
    "first_camp_cleaned.printSchema()\n",
    "second_camp_cleaned.printSchema()\n",
    "third_camp_cleaned.printSchema()\n",
    "patient_profiles_cleaned.printSchema()\n",
    "health_camp_details_cleaned.printSchema()"
   ]
  },
  {
   "cell_type": "markdown",
   "metadata": {
    "application/vnd.databricks.v1+cell": {
     "cellMetadata": {
      "byteLimit": 2048000,
      "rowLimit": 10000
     },
     "inputWidgets": {},
     "nuid": "ef86ee8b-27e5-4e73-b20f-41a1b26aa089",
     "showTitle": false,
     "tableResultSettingsMap": {},
     "title": ""
    }
   },
   "source": [
    "1. There are 5 tables. See if there is any relationship between them. \n",
    "2. If there is a relationship, see if it makes sense to put the related tables together in whichever way it makes sense\n",
    "3. If required create new calculated or derived field if needed\n",
    "4. The end outcome could be unified table or tables"
   ]
  },
  {
   "cell_type": "code",
   "execution_count": 0,
   "metadata": {
    "application/vnd.databricks.v1+cell": {
     "cellMetadata": {
      "byteLimit": 2048000,
      "rowLimit": 10000
     },
     "inputWidgets": {},
     "nuid": "4ea887c1-6c87-4dac-8e39-f734efeb443d",
     "showTitle": false,
     "tableResultSettingsMap": {
      "0": {
       "dataGridStateBlob": null,
       "filterBlob": "{\"version\":1,\"filterGroups\":[],\"syncTimestamp\":1752002307904}",
       "queryPlanFiltersBlob": "[]",
       "tableResultIndex": 0
      }
     },
     "title": ""
    }
   },
   "outputs": [],
   "source": [
    "# display(first_camp_cleaned.limit(25))\n",
    "# display(second_camp_cleaned.limit(25))\n",
    "# display(third_camp_cleaned.limit(25))\n",
    "# display(patient_profiles_cleaned.limit(25))\n",
    "display(health_camp_details_cleaned.limit(25))"
   ]
  },
  {
   "cell_type": "markdown",
   "metadata": {
    "application/vnd.databricks.v1+cell": {
     "cellMetadata": {
      "byteLimit": 2048000,
      "rowLimit": 10000
     },
     "inputWidgets": {},
     "nuid": "d0193315-bee4-4bf7-bb0f-2f0b244be872",
     "showTitle": false,
     "tableResultSettingsMap": {},
     "title": ""
    }
   },
   "source": [
    "1. We can join first_camp on patient_id with patient_profiles"
   ]
  },
  {
   "cell_type": "code",
   "execution_count": 0,
   "metadata": {
    "application/vnd.databricks.v1+cell": {
     "cellMetadata": {
      "byteLimit": 2048000,
      "rowLimit": 10000
     },
     "inputWidgets": {},
     "nuid": "72986073-759f-4e64-8b86-ad95c3bcf718",
     "showTitle": false,
     "tableResultSettingsMap": {},
     "title": ""
    }
   },
   "outputs": [],
   "source": [
    "joined_firstcamp_profiles = first_camp_cleaned.join(patient_profiles_cleaned, on=\"patient_id\", how=\"left\")\n",
    "display(joined_firstcamp_profiles)\n",
    "print(\"Number of rows in first_camp_cleaned:\", first_camp_cleaned.count())\n",
    "print(\"Number of rows in patient_profiles:\", patient_profiles.count())"
   ]
  },
  {
   "cell_type": "markdown",
   "metadata": {
    "application/vnd.databricks.v1+cell": {
     "cellMetadata": {
      "byteLimit": 2048000,
      "rowLimit": 10000
     },
     "inputWidgets": {},
     "nuid": "7e595222-b7f0-4c8d-9030-78831a7d5d61",
     "showTitle": false,
     "tableResultSettingsMap": {},
     "title": ""
    }
   },
   "source": [
    "Join second camp with patient profiles using a left join"
   ]
  },
  {
   "cell_type": "code",
   "execution_count": 0,
   "metadata": {
    "application/vnd.databricks.v1+cell": {
     "cellMetadata": {
      "byteLimit": 2048000,
      "rowLimit": 10000
     },
     "inputWidgets": {},
     "nuid": "9973f48b-e0ce-421c-8088-27a8980fac1a",
     "showTitle": false,
     "tableResultSettingsMap": {},
     "title": ""
    }
   },
   "outputs": [],
   "source": [
    "joined_secondcamp_profiles = second_camp_cleaned.join(patient_profiles_cleaned, on=\"patient_id\", how=\"left\")\n",
    "display(joined_secondcamp_profiles)\n",
    "print(\"Number of rows in second_camp_cleaned:\", second_camp_cleaned.count())\n",
    "print(\"Number of rows in patient_profiles:\", patient_profiles.count())"
   ]
  },
  {
   "cell_type": "markdown",
   "metadata": {
    "application/vnd.databricks.v1+cell": {
     "cellMetadata": {
      "byteLimit": 2048000,
      "rowLimit": 10000
     },
     "inputWidgets": {},
     "nuid": "52cc7f9b-41a5-4c13-8f72-e105265eaaab",
     "showTitle": false,
     "tableResultSettingsMap": {},
     "title": ""
    }
   },
   "source": [
    "Join third camp with patient profiles using left join"
   ]
  },
  {
   "cell_type": "code",
   "execution_count": 0,
   "metadata": {
    "application/vnd.databricks.v1+cell": {
     "cellMetadata": {
      "byteLimit": 2048000,
      "rowLimit": 10000
     },
     "inputWidgets": {},
     "nuid": "b7de4dee-7a8b-4d6a-a5c9-86412705c0ed",
     "showTitle": false,
     "tableResultSettingsMap": {},
     "title": ""
    }
   },
   "outputs": [],
   "source": [
    "joined_thirdcamp_profiles = third_camp_cleaned.join(patient_profiles_cleaned, on=\"patient_id\", how=\"left\")\n",
    "display(joined_thirdcamp_profiles)\n",
    "print(\"Number of rows in third_camp_cleaned:\", third_camp_cleaned.count())\n",
    "print(\"Number of rows in patient_profiles:\", patient_profiles.count())"
   ]
  },
  {
   "cell_type": "markdown",
   "metadata": {
    "application/vnd.databricks.v1+cell": {
     "cellMetadata": {
      "byteLimit": 2048000,
      "rowLimit": 10000
     },
     "inputWidgets": {},
     "nuid": "e271288b-0481-49a1-bfbb-8007a24b868e",
     "showTitle": false,
     "tableResultSettingsMap": {},
     "title": ""
    }
   },
   "source": []
  },
  {
   "cell_type": "code",
   "execution_count": 0,
   "metadata": {
    "application/vnd.databricks.v1+cell": {
     "cellMetadata": {},
     "inputWidgets": {},
     "nuid": "d16d36ff-8300-44ba-8724-f5671f45ce3a",
     "showTitle": false,
     "tableResultSettingsMap": {},
     "title": ""
    }
   },
   "outputs": [],
   "source": [
    "# Select Patient_ID and Health_Camp_ID from each DataFrame\n",
    "df_first_select = first_camp_cleaned.select(col(\"Patient_ID\"), col(\"Health_Camp_ID\"))\n",
    "df_second_select = second_camp_cleaned.select(col(\"Patient_ID\"), col(\"Health_Camp_ID\"))\n",
    "df_third_select = third_camp_cleaned.select(col(\"Patient_ID\"), col(\"Health_Camp_ID\"))\n",
    "\n",
    "# Union the DataFrames to combine all Patient_ID and Health_Camp_ID pairs\n",
    "df_combined = df_first_select.union(df_second_select).union(df_third_select)\n",
    "\n",
    "# Remove duplicates to ensure unique pairs\n",
    "df_combined_clean = df_combined.filter(\n",
    "    (col(\"Patient_ID\").isNotNull()) &\n",
    "    (col(\"Health_Camp_ID\").isNotNull())\n",
    ").dropDuplicates()\n",
    "\n",
    "# Display the first 25 rows of the combined DataFrame\n",
    "display(df_combined_clean.limit(25))\n",
    "\n",
    "# Print schema and row count\n",
    "df_combined_clean.printSchema()\n",
    "print(f\"Row count: {df_combined_clean.count()}\")"
   ]
  },
  {
   "cell_type": "code",
   "execution_count": 0,
   "metadata": {
    "application/vnd.databricks.v1+cell": {
     "cellMetadata": {},
     "inputWidgets": {},
     "nuid": "47a98286-976c-4bc7-95ea-0b6a12c8fe66",
     "showTitle": false,
     "tableResultSettingsMap": {},
     "title": ""
    }
   },
   "outputs": [],
   "source": [
    "# Step 2: Select and rename Health_Camp_ID columns\n",
    "try:\n",
    "    # Select only Patient_ID and Health_Camp_ID, renaming Health_Camp_ID for clarity\n",
    "    df_first_selected = first_camp_cleaned.select(\n",
    "        col(\"Patient_ID\"),\n",
    "        col(\"Health_Camp_ID\").alias(\"First_Camp_Health_ID\")\n",
    "    )\n",
    "    df_second_selected = second_camp_cleaned.select(\n",
    "        col(\"Patient_ID\"),\n",
    "        col(\"Health_Camp_ID\").alias(\"Second_Camp_Health_ID\")\n",
    "    )\n",
    "    df_third_selected = third_camp_cleaned.select(\n",
    "        col(\"Patient_ID\"),\n",
    "        col(\"Health_Camp_ID\").alias(\"Third_Camp_Health_ID\")\n",
    "    )\n",
    "except Exception as e:\n",
    "    print(f\"Error selecting columns: {e}\")\n",
    "    raise\n",
    "\n",
    "# Step 3: Perform outer joins to combine all Patient_IDs\n",
    "try:\n",
    "    # Join the three DataFrames on Patient_ID using outer joins\n",
    "    df_combined = df_first_selected.join(\n",
    "        df_second_selected,\n",
    "        \"Patient_ID\",\n",
    "        \"outer\"\n",
    "    ).join(\n",
    "        df_third_selected,\n",
    "        \"Patient_ID\",\n",
    "        \"outer\"\n",
    "    )\n",
    "    print(\"DataFrames joined successfully.\")\n",
    "except Exception as e:\n",
    "    print(f\"Error joining DataFrames: {e}\")\n",
    "    raise\n",
    "\n",
    "# Step 4: Display sample output (first 10 rows)\n",
    "display(df_combined.limit(10))\n",
    "\n",
    "# Step 5: Save the output table to DBFS\n",
    "# try:\n",
    "#     df_combined.write.csv(\n",
    "#         \"dbfs:/Volumes/healthcare/health_camps/cleaned/Combined_Health_Camp_IDs.csv\",\n",
    "#         header=True,\n",
    "#         mode=\"overwrite\"\n",
    "#     )\n",
    "#     print(\"Output table saved to dbfs:/Volumes/healthcare/health_camps/cleaned/Combined_Health_Camp_IDs.csv\")"
   ]
  },
  {
   "cell_type": "code",
   "execution_count": 0,
   "metadata": {
    "application/vnd.databricks.v1+cell": {
     "cellMetadata": {},
     "inputWidgets": {},
     "nuid": "fc673f70-a607-45e1-b5ae-bb3c010806a2",
     "showTitle": false,
     "tableResultSettingsMap": {},
     "title": ""
    }
   },
   "outputs": [],
   "source": [
    "df_combined.count()"
   ]
  },
  {
   "cell_type": "markdown",
   "metadata": {
    "application/vnd.databricks.v1+cell": {
     "cellMetadata": {
      "byteLimit": 2048000,
      "rowLimit": 10000
     },
     "inputWidgets": {},
     "nuid": "cec3a905-c438-486b-b1e7-a1dcc34c8fb3",
     "showTitle": false,
     "tableResultSettingsMap": {},
     "title": ""
    }
   },
   "source": [
    "### This is a outer join of all camps tables with patient id, health_camp_ids, with patient profiles details"
   ]
  },
  {
   "cell_type": "code",
   "execution_count": 0,
   "metadata": {
    "application/vnd.databricks.v1+cell": {
     "cellMetadata": {
      "byteLimit": 2048000,
      "rowLimit": 10000
     },
     "inputWidgets": {},
     "nuid": "3cf15df8-d462-411f-8269-6adef4a1a67b",
     "showTitle": false,
     "tableResultSettingsMap": {},
     "title": ""
    }
   },
   "outputs": [],
   "source": [
    "# Perform a left join of df_combined with patient_profiles on Patient_ID\n",
    "df_final = df_combined.join(patient_profiles, \"Patient_ID\", \"left\")\n",
    "\n",
    "# Display the first 25 rows of the final DataFrame\n",
    "display(df_final.limit(25))\n",
    "\n",
    "# Print schema and row count\n",
    "df_final.printSchema()\n",
    "print(f\"Row count: {df_final.count()}\")"
   ]
  },
  {
   "cell_type": "markdown",
   "metadata": {
    "application/vnd.databricks.v1+cell": {
     "cellMetadata": {
      "byteLimit": 2048000,
      "rowLimit": 10000
     },
     "inputWidgets": {},
     "nuid": "4a200411-1830-439b-ac73-2abff8a1b3ef",
     "showTitle": false,
     "tableResultSettingsMap": {},
     "title": ""
    }
   },
   "source": [
    "Check who all are in both first camp and second table attended"
   ]
  },
  {
   "cell_type": "code",
   "execution_count": 0,
   "metadata": {
    "application/vnd.databricks.v1+cell": {
     "cellMetadata": {
      "byteLimit": 2048000,
      "rowLimit": 10000
     },
     "inputWidgets": {},
     "nuid": "eb6ab55e-0254-47af-8c9b-df4b9aa06f01",
     "showTitle": false,
     "tableResultSettingsMap": {},
     "title": ""
    }
   },
   "outputs": [],
   "source": [
    "filtered_df = df_final.filter(\n",
    "    (df_final.First_Camp_Health_ID.isNotNull()) & \n",
    "    (df_final.Second_Camp_Health_ID.isNotNull())\n",
    ")\n",
    "display(filtered_df)"
   ]
  },
  {
   "cell_type": "markdown",
   "metadata": {
    "application/vnd.databricks.v1+cell": {
     "cellMetadata": {
      "byteLimit": 2048000,
      "rowLimit": 10000
     },
     "inputWidgets": {},
     "nuid": "90404ade-0845-4bcb-9e3c-f27117c28588",
     "showTitle": false,
     "tableResultSettingsMap": {},
     "title": ""
    }
   },
   "source": [
    "### Combine all patient details table with all the information we have on them from the camp tables"
   ]
  },
  {
   "cell_type": "markdown",
   "metadata": {
    "application/vnd.databricks.v1+cell": {
     "cellMetadata": {
      "byteLimit": 2048000,
      "rowLimit": 10000
     },
     "inputWidgets": {},
     "nuid": "3656b1f8-f756-4843-af38-4135e379de01",
     "showTitle": false,
     "tableResultSettingsMap": {},
     "title": ""
    }
   },
   "source": [
    "Combine donation and health_score from first_camp_cleaned with matching patient_ID in df_final"
   ]
  },
  {
   "cell_type": "code",
   "execution_count": 0,
   "metadata": {
    "application/vnd.databricks.v1+cell": {
     "cellMetadata": {
      "byteLimit": 2048000,
      "rowLimit": 10000
     },
     "inputWidgets": {},
     "nuid": "a0e8679d-a6e4-46ec-965f-72c618964f9d",
     "showTitle": false,
     "tableResultSettingsMap": {},
     "title": ""
    }
   },
   "outputs": [],
   "source": [
    "from pyspark.sql.functions import col\n",
    "\n",
    "# Perform an outer join with df_final and first_camp_cleaned on Patient_ID and health_camp_id\n",
    "df_joined = df_final.alias(\"df1\").join(\n",
    "    first_camp_cleaned.select(\n",
    "        col(\"patient_id\").alias(\"Patient_ID\"),\n",
    "        col(\"health_camp_id\").alias(\"First_Camp_Health_ID\"),\n",
    "        \"donation\",\n",
    "        \"health_score\"\n",
    "    ).alias(\"df2\"),\n",
    "    on=[col(\"df1.Patient_ID\") == col(\"df2.Patient_ID\"), col(\"df1.First_Camp_Health_ID\") == col(\"df2.First_Camp_Health_ID\")],\n",
    "    how=\"outer\"\n",
    ")\n",
    "\n",
    "# Select only the required columns and rename health_score to first_camp_health_score\n",
    "df_final_updated = df_joined.select(\n",
    "    col(\"df1.*\"),\n",
    "    col(\"df2.donation\"),\n",
    "    col(\"df2.health_score\").alias(\"first_camp_health_score\")\n",
    ")\n",
    "\n",
    "# Display the resulting DataFrame\n",
    "display(df_final_updated)"
   ]
  },
  {
   "cell_type": "markdown",
   "metadata": {
    "application/vnd.databricks.v1+cell": {
     "cellMetadata": {
      "byteLimit": 2048000,
      "rowLimit": 10000
     },
     "inputWidgets": {},
     "nuid": "91a7fb0e-3ab2-4448-91c6-57a61a5ada37",
     "showTitle": false,
     "tableResultSettingsMap": {},
     "title": ""
    }
   },
   "source": [
    "### Now add health score from the second table"
   ]
  },
  {
   "cell_type": "code",
   "execution_count": 0,
   "metadata": {
    "application/vnd.databricks.v1+cell": {
     "cellMetadata": {
      "byteLimit": 2048000,
      "rowLimit": 10000
     },
     "inputWidgets": {},
     "nuid": "f4953d71-dcc8-4ae8-abb8-4d04409981a6",
     "showTitle": false,
     "tableResultSettingsMap": {},
     "title": ""
    }
   },
   "outputs": [],
   "source": [
    "from pyspark.sql.functions import col\n",
    "\n",
    "# Perform an outer join with df_final_updated and second_camp_cleaned on Patient_ID and health_camp_id\n",
    "df_joined_second = df_final_updated.alias(\"df1\").join(\n",
    "    second_camp_cleaned.select(\n",
    "        col(\"patient_id\").alias(\"Patient_ID\"),\n",
    "        col(\"health_camp_id\").alias(\"Second_Camp_Health_ID\"),\n",
    "        col(\"health_score\").alias(\"second_camp_health_score\")\n",
    "    ).alias(\"df2\"),\n",
    "    on=[col(\"df1.Patient_ID\") == col(\"df2.Patient_ID\"), col(\"df1.Second_Camp_Health_ID\") == col(\"df2.Second_Camp_Health_ID\")],\n",
    "    how=\"outer\"\n",
    ")\n",
    "\n",
    "# Select only the required columns\n",
    "df_final_updated = df_joined_second.select(\n",
    "    col(\"df1.*\"),\n",
    "    col(\"df2.second_camp_health_score\")\n",
    ")\n",
    "\n",
    "# Display the resulting DataFrame\n",
    "display(df_final_updated)"
   ]
  },
  {
   "cell_type": "markdown",
   "metadata": {
    "application/vnd.databricks.v1+cell": {
     "cellMetadata": {
      "byteLimit": 2048000,
      "rowLimit": 10000
     },
     "inputWidgets": {},
     "nuid": "1c938c10-ec31-4c6b-929a-7577f144a47c",
     "showTitle": false,
     "tableResultSettingsMap": {},
     "title": ""
    }
   },
   "source": [
    "### Now combine the reamining information from the third table into the df_final_updated"
   ]
  },
  {
   "cell_type": "code",
   "execution_count": 0,
   "metadata": {
    "application/vnd.databricks.v1+cell": {
     "cellMetadata": {
      "byteLimit": 2048000,
      "rowLimit": 10000
     },
     "inputWidgets": {},
     "nuid": "9048ce24-9549-435a-9060-82830bc41574",
     "showTitle": false,
     "tableResultSettingsMap": {
      "0": {
       "dataGridStateBlob": null,
       "filterBlob": "{\"version\":1,\"filterGroups\":[],\"syncTimestamp\":1752003430450}",
       "queryPlanFiltersBlob": "[]",
       "tableResultIndex": 0
      }
     },
     "title": ""
    }
   },
   "outputs": [],
   "source": [
    "# Perform an outer join with df_final_updated and third_camp_cleaned on Patient_ID and health_camp_id\n",
    "df_joined_third = df_final_updated.alias(\"df1\").join(\n",
    "    third_camp_cleaned.select(\n",
    "        col(\"patient_id\").alias(\"Patient_ID\"),\n",
    "        col(\"health_camp_id\").alias(\"Third_Camp_Health_ID\"),\n",
    "        col(\"number_of_stall_visited\"),\n",
    "        col(\"last_stall_visited_number\")\n",
    "    ).alias(\"df2\"),\n",
    "    on=[col(\"df1.Patient_ID\") == col(\"df2.Patient_ID\"), col(\"df1.Third_Camp_Health_ID\") == col(\"df2.Third_Camp_Health_ID\")],\n",
    "    how=\"outer\"\n",
    ")\n",
    "\n",
    "# Select only the required columns\n",
    "df_final_updated = df_joined_third.select(\n",
    "    col(\"df1.*\"),\n",
    "    col(\"df2.number_of_stall_visited\").alias(\"number_of_stall_visited_in_third_camp\"),\n",
    "    col(\"df2.last_stall_visited_number\").alias(\"last_stall_visited_number_in_third_camp\")\n",
    ")\n",
    "\n",
    "# Display the resulting DataFrame\n",
    "display(df_final_updated)"
   ]
  },
  {
   "cell_type": "markdown",
   "metadata": {
    "application/vnd.databricks.v1+cell": {
     "cellMetadata": {
      "byteLimit": 2048000,
      "rowLimit": 10000
     },
     "inputWidgets": {},
     "nuid": "57f6f5c1-6cb3-41d1-8141-52f79b32b2d5",
     "showTitle": false,
     "tableResultSettingsMap": {},
     "title": ""
    }
   },
   "source": [
    "### Save all the tables including the newly outer joined table"
   ]
  },
  {
   "cell_type": "code",
   "execution_count": 0,
   "metadata": {
    "application/vnd.databricks.v1+cell": {
     "cellMetadata": {
      "byteLimit": 2048000,
      "rowLimit": 10000
     },
     "inputWidgets": {},
     "nuid": "2fdbb737-212f-436f-a5c1-7a5b0a0ef587",
     "showTitle": false,
     "tableResultSettingsMap": {},
     "title": ""
    }
   },
   "outputs": [],
   "source": [
    "first_camp_cleaned.write.mode(\"overwrite\").saveAsTable(\"first_camp_cleaned\")\n",
    "second_camp_cleaned.write.mode(\"overwrite\").saveAsTable(\"second_camp_cleaned\")\n",
    "third_camp_cleaned.write.mode(\"overwrite\").saveAsTable(\"third_camp_cleaned\")\n",
    "patient_profiles_cleaned.write.mode(\"overwrite\").saveAsTable(\"patient_profiles_cleaned\")\n",
    "health_camp_details_cleaned.write.mode(\"overwrite\").saveAsTable(\"health_camp_details_cleaned\")\n",
    "df_final_updated.write.mode(\"overwrite\").saveAsTable(\"df_final_updated\")"
   ]
  },
  {
   "cell_type": "code",
   "execution_count": 0,
   "metadata": {
    "application/vnd.databricks.v1+cell": {
     "cellMetadata": {
      "byteLimit": 2048000,
      "implicitDf": true,
      "rowLimit": 10000
     },
     "inputWidgets": {},
     "nuid": "b1bfde8e-78ae-43e1-86dd-6d570707d2a2",
     "showTitle": false,
     "tableResultSettingsMap": {},
     "title": ""
    }
   },
   "outputs": [],
   "source": [
    "%sql\n",
    "SELECT * \n",
    "FROM df_final_updated\n",
    "LIMIT 10"
   ]
  },
  {
   "cell_type": "code",
   "execution_count": 0,
   "metadata": {
    "application/vnd.databricks.v1+cell": {
     "cellMetadata": {
      "byteLimit": 2048000,
      "rowLimit": 10000
     },
     "inputWidgets": {},
     "nuid": "19c859af-0c0f-4d6a-8d66-2660dd25d65c",
     "showTitle": false,
     "tableResultSettingsMap": {},
     "title": ""
    }
   },
   "outputs": [],
   "source": [
    "first_camp_cleaned.write.format(\"delta\").mode(\"overwrite\").save(\"/delta/healthcare/camp_data/first_camp_cleaned\")\n",
    "second_camp_cleaned.write.format(\"delta\").mode(\"overwrite\").save(\"/delta/healthcare/camp_data/second_camp_cleaned\")\n",
    "third_camp_cleaned.write.format(\"delta\").mode(\"overwrite\").save(\"/delta/healthcare/camp_data/third_camp_cleaned\")\n",
    "health_camp_details.write.format(\"delta\").mode(\"overwrite\").save(\"/delta/healthcare/camp_data/health_camp_details\")\n",
    "df_final_updated.write.format(\"delta\").mode(\"overwrite\").save(\"/delta/healthcare/camp_data/df_final_updated\")"
   ]
  }
 ],
 "metadata": {
  "application/vnd.databricks.v1+notebook": {
   "computePreferences": null,
   "dashboards": [],
   "environmentMetadata": {
    "base_environment": "",
    "environment_version": "2"
   },
   "inputWidgetPreferences": null,
   "language": "python",
   "notebookMetadata": {
    "mostRecentlyExecutedCommandWithImplicitDF": {
     "commandId": 6191188712914425,
     "dataframes": [
      "_sqldf"
     ]
    },
    "pythonIndentUnit": 4
   },
   "notebookName": "Transform and Enrich",
   "widgets": {}
  },
  "language_info": {
   "name": "python"
  }
 },
 "nbformat": 4,
 "nbformat_minor": 0
}
